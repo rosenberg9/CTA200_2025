{
 "cells": [
  {
   "cell_type": "markdown",
   "id": "326f6d6d-c3ed-4898-ad3e-b62dbc51d5c0",
   "metadata": {},
   "source": [
    "# Part 1"
   ]
  },
  {
   "cell_type": "code",
   "execution_count": 1,
   "id": "f1695e98-fef1-4261-9808-0a4e0622673d",
   "metadata": {},
   "outputs": [],
   "source": [
    "import numpy as np"
   ]
  },
  {
   "cell_type": "code",
   "execution_count": 2,
   "id": "e4b59b1c-7fa1-46a3-bb6f-1b3bea184761",
   "metadata": {},
   "outputs": [],
   "source": [
    "\"\"\"\n",
    "This function takes variable x and returns x^3-x^2-1\n",
    "\n",
    "input: x, int/real/array (the function's value)\n",
    "\n",
    "returns: f(x), the value of the function at f, real/array\n",
    "\"\"\"\n",
    "def f(x):\n",
    "    return x**3-x**2-1\n",
    "\n",
    "\"\"\"\n",
    "This function takes variable x and returns df/dx, where f(x) = x^3-x^2-1\n",
    "\n",
    "input: x, int/real/array (the function's value)\n",
    "\n",
    "returns: df/dx, the value of derivative of f at x (real/array)\n",
    "\"\"\"\n",
    "def df(x):\n",
    "    return 3*x**2-2*x"
   ]
  },
  {
   "cell_type": "markdown",
   "id": "96118f26-39e5-4b3a-8c64-d6d3c5705391",
   "metadata": {},
   "source": [
    "# Part 2"
   ]
  },
  {
   "cell_type": "code",
   "execution_count": 43,
   "id": "9ad4d0d1-c009-473c-8a1d-8d479abfa9e5",
   "metadata": {},
   "outputs": [],
   "source": [
    "\"\"\"\n",
    "Function to perform newtown integration.\n",
    "This is a root-finding algorithm that takes a function, its derivative and an initial guess, and tries to find the root.\n",
    "\n",
    "Parameters\n",
    "----------\n",
    "f: function, that outputs real/array\n",
    "df: function that is derivative of f, outputs real/array\n",
    "x0: real/array, initial guess of root of function f\n",
    "epsilon: real/array, distance from 0 that f should be to be considered a root, optional\n",
    "max_iter: integer, the number of iterations to look for root before quitting, optional\n",
    "\n",
    "Returns\n",
    "-------\n",
    "real/array\n",
    "    if it finds a root of f\n",
    "None\n",
    "    if it cannot find a root within max_iter\n",
    "\n",
    "\"\"\"\n",
    "def newton(f, df, x0, epsilon=1e-6, max_iter=30):\n",
    "    i = 0 #the current iteration\n",
    "    x = x0 - f(x0)/df(x0) #first try at finding root\n",
    "    while i < max_iter:\n",
    "        x = x - f(x)/df(x)\n",
    "\n",
    "        if abs(f(x))<epsilon:\n",
    "            print(\"Found root in \", i, \" iterations\")\n",
    "            return x\n",
    "\n",
    "        i += 1\n",
    "\n",
    "        if i == 30:\n",
    "            print (\"Iteration failed\")\n",
    "            return None\n",
    "            \n"
   ]
  },
  {
   "cell_type": "markdown",
   "id": "9b0377c1-5a04-44cf-812d-602d4482b423",
   "metadata": {},
   "source": [
    "# Part 3\n",
    "We see that for higher values of $x_0$, it takes more iterations to find the root. At $x_0$ = $10^{10}$ it cannot find the root in 30 iterations. In the examples shown below it takes one more iteration to find the root when $x_0 = 10^4$ if $\\epsilon$ is $10^{-8}$, rather than $10^{-6}$. This is expected because as we decrease $\\epsilon$, we are telling the function to ensure a higher precision in the root of the function, which naturally requires the same or more iterations."
   ]
  },
  {
   "cell_type": "code",
   "execution_count": 42,
   "id": "e61f659c-33cf-46d4-a632-fe28e378a291",
   "metadata": {},
   "outputs": [
    {
     "name": "stdout",
     "output_type": "stream",
     "text": [
      "x0 = 1\n",
      "Found root in  7  iterations\n",
      "root:  1.465571232470246\n",
      "x0 = 10^4\n",
      "Found root in  24  iterations\n",
      "root:  1.4655712352599874\n",
      "x0 = 10^10\n",
      "Iteration failed\n",
      "root:  None\n",
      "What about if epsilon = 10^-8?\n",
      "x0 = 1\n",
      "Found root in  7  iterations\n",
      "root:  1.465571232470246\n",
      "x0 = 10^4\n",
      "Found root in  25  iterations\n",
      "root:  1.465571231876768\n",
      "x0 = 10^10\n",
      "Iteration failed\n",
      "root:  None\n"
     ]
    }
   ],
   "source": [
    "print(\"x0 = 1\")\n",
    "print(\"root: \", newton(f,df,1e1))\n",
    "print(\"x0 = 10^4\")\n",
    "print(\"root: \", newton(f,df,1e4))\n",
    "print(\"x0 = 10^10\")\n",
    "print(\"root: \", newton(f,df,1e10))\n",
    "\n",
    "print(\"What about if epsilon = 10^-8?\")\n",
    "print(\"x0 = 1\")\n",
    "print(\"root: \", newton(f,df,1e1,epsilon=1e-8))\n",
    "print(\"x0 = 10^4\")\n",
    "print(\"root: \", newton(f,df,1e4,epsilon=1e-8))\n",
    "print(\"x0 = 10^10\")\n",
    "print(\"root: \", newton(f,df,1e10,epsilon=1e-8))"
   ]
  },
  {
   "cell_type": "code",
   "execution_count": null,
   "id": "c4ac2446-3c78-496c-bac8-9f60caf08aba",
   "metadata": {},
   "outputs": [],
   "source": []
  }
 ],
 "metadata": {
  "kernelspec": {
   "display_name": "Python 3 (ipykernel)",
   "language": "python",
   "name": "python3"
  },
  "language_info": {
   "codemirror_mode": {
    "name": "ipython",
    "version": 3
   },
   "file_extension": ".py",
   "mimetype": "text/x-python",
   "name": "python",
   "nbconvert_exporter": "python",
   "pygments_lexer": "ipython3",
   "version": "3.10.2"
  }
 },
 "nbformat": 4,
 "nbformat_minor": 5
}
